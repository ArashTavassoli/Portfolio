{
 "cells": [
  {
   "cell_type": "markdown",
   "metadata": {
    "colab_type": "text",
    "id": "PmGDJzj1EAoJ"
   },
   "source": [
    "# <font color=#295172>Part 3 of 4 - Model Training and Analysis</font>\n",
    "\n",
    "#### <font color=#6185a0>| Final Capstone Project for the Diploma Program in Data Science | BrainStation Vancouver |</font>\n",
    "\n",
    "<font color=#6185a0>| Arash Tavassoli | May-June 2019 |</font>\n",
    "\n",
    "---\n",
    "This is the third notebook in a series of four:\n",
    "* **Part 1 - Exploratory Data Analysis**\n",
    "\n",
    "* **Part 2 - Data Preprocessing**\n",
    "\n",
    "* **<font color=#cc6900>Part 3 - Model Training and Analysis</font>**\n",
    "\n",
    "* **Part 4 - Real-Time Facial Expression Recognition**\n",
    "\n",
    "### What to expect in this notebook:\n",
    "\n",
    "1. A brief intoroduction to the approach taken in compiling and training the models\n",
    "2. A set of helper functions and an Excel spreadsheet that will be used for compiling and training the models\n",
    "3. Training of one model for each of the 3 and 5-expression classifiers\n",
    "3. Model performance analysis and comparison to human accuracies from Notebook 1\n",
    "\n",
    "---\n",
    "## 1. Convolutional Neural Networks:\n",
    "Convolutional Neural Networks (CNN) are currently considered as one of the top choices for any image classification problem, primarily because they are able to pick up on patterns in small parts of an image. However, this deep learning approach shows its true power only when it is presented with large enough data at the training stage. It is also considered as a computationally expensive Machine Learning system, given the large number of trainable parameters, specially in larger (deeper) network architectures.\n",
    "\n",
    "In this project we will use Python's high-level neural networks API, Keras (using TensorFlow backend) to build and tune a Convolutional Neural Network on the images that we processed in the previous notebooks.\n",
    "\n",
    "\n",
    "## 2. The Approach:\n",
    "\n",
    "Considering the large number of hyperparameters that can be tuned for a Convolutional Neural Network, the approach for this project is to build a set of helper functions that, given a model number, can read the hyperparameters for each convolutional (CONV) and fully connected (FC) layers, as well as the optimization parameters, from an Excel sheet that is saved as `Model Params.xlsx`. The functions will then compile the sequential model and save the trained model, the training history and some accuracy metrics on a new folder (with the same model number), and also update the Excel sheet with the training time, training accuracy and validation accuracy:\n",
    "\n",
    "<img src=\"Data/Images/Notebook3.png\" width=\"900\" />\n",
    "\n",
    "As you can see, training will focus on a model with 3 and anoher model with 5 classes of facial expressions."
   ]
  },
  {
   "cell_type": "markdown",
   "metadata": {
    "colab_type": "text",
    "id": "fkwQXhnCEAow"
   },
   "source": [
    "### 1.1. The Excel Sheet with Pre-Defined Hyperparameters\n",
    "\n",
    "The `Model Params.xlsx` is saved in the same folder as the current notebook and hosts the values for the following hyperparameters that will be used during model training:\n",
    "\n",
    "- **For each CONV layer:**\n",
    "    - Number of filters (int)\n",
    "    - Filter size (int)\n",
    "    - Filter strides (int)\n",
    "    - Filter padding type ('same' or 'valid')\n",
    "    - Activation function ('relu', 'sigmoid', 'tanh')\n",
    "    - Kernel Initializer ('Xavier')\n",
    "    - L2 regularization weight (float)\n",
    "    - Pooling type ('Average' or 'Max')\n",
    "    - Pooling filter size (int)\n",
    "    - Pooling filter strides (int)\n",
    "    - Pooling filter padding type ('same' or 'valid') \n",
    "    - Dropout rate (float between 0 and 1)\n",
    "\n",
    "\n",
    "- **For each FC layer:**\n",
    "    - Number of filters (int)\n",
    "    - Activation function ('relu', 'sigmoid', 'tanh')\n",
    "    - L2 regularization weight (float)\n",
    "    - Dropout rate (float between 0 and 1)\n",
    "    \n",
    "    \n",
    "- **Other parameters:**\n",
    "    - Model number (int)\n",
    "    - Number of classes (3 or 5)\n",
    "    - Number of epochs (int)\n",
    "    - Batch size (int)\n",
    "    - Optimizer type ('Adam')\n",
    "    - Learning rate (float)\n",
    "    - Image input size (100x100 for this project)\n",
    "    \n",
    "<img src=\"Data/Images/Excel Sheet.png\" style=\"width: 1000px;\"/>\n",
    "\n",
    "Let's start by importing the required libraries:"
   ]
  },
  {
   "cell_type": "code",
   "execution_count": 1,
   "metadata": {
    "colab": {
     "base_uri": "https://localhost:8080/",
     "height": 34
    },
    "colab_type": "code",
    "executionInfo": {
     "elapsed": 2792,
     "status": "ok",
     "timestamp": 1560562211539,
     "user": {
      "displayName": "Arash Tavassoli",
      "photoUrl": "https://lh5.googleusercontent.com/-TL3G5GlWXr4/AAAAAAAAAAI/AAAAAAAAEUk/2aiZ3iwrMDo/s64/photo.jpg",
      "userId": "00927822409229306590"
     },
     "user_tz": 420
    },
    "id": "V6HnIrvtYWDN",
    "outputId": "b565c81c-813b-4eac-e7fa-1fd28e0245bc"
   },
   "outputs": [
    {
     "name": "stderr",
     "output_type": "stream",
     "text": [
      "Using TensorFlow backend.\n"
     ]
    }
   ],
   "source": [
    "import numpy as np\n",
    "import pandas as pd\n",
    "\n",
    "import matplotlib.pyplot as plt\n",
    "import matplotlib.gridspec as gridspec\n",
    "import seaborn as sns\n",
    "\n",
    "from sklearn.metrics import confusion_matrix\n",
    "from sklearn.metrics import classification_report \n",
    "\n",
    "import keras\n",
    "from keras.models import Sequential\n",
    "from keras.layers import Dense, Conv2D, Flatten, MaxPooling2D, Dropout, SpatialDropout2D, AveragePooling2D, BatchNormalization, Activation\n",
    "from keras import regularizers\n",
    "from keras.utils import plot_model\n",
    "from keras import models\n",
    "\n",
    "from google.colab import drive\n",
    "from IPython.display import clear_output\n",
    "import json\n",
    "import time\n",
    "import os"
   ]
  },
  {
   "cell_type": "markdown",
   "metadata": {
    "colab_type": "text",
    "id": "XfJLpwXdwVU-"
   },
   "source": [
    "The entire model training process has been done on Google Colab (to use GPUs), therefore the following root directory is specific to my personal Google Drive where the notebook was saved:"
   ]
  },
  {
   "cell_type": "code",
   "execution_count": 0,
   "metadata": {
    "colab": {},
    "colab_type": "code",
    "id": "4zsNDj68EAoq"
   },
   "outputs": [],
   "source": [
    "# This root_dir is used after mounting the Google Drive on Google Colab environment\n",
    "root_dir = '/gdrive/My Drive/Colab Notebooks/BrainStation Capstone - Colab'"
   ]
  },
  {
   "cell_type": "code",
   "execution_count": 4,
   "metadata": {
    "colab": {
     "base_uri": "https://localhost:8080/",
     "height": 34
    },
    "colab_type": "code",
    "executionInfo": {
     "elapsed": 232,
     "status": "ok",
     "timestamp": 1560562230570,
     "user": {
      "displayName": "Arash Tavassoli",
      "photoUrl": "https://lh5.googleusercontent.com/-TL3G5GlWXr4/AAAAAAAAAAI/AAAAAAAAEUk/2aiZ3iwrMDo/s64/photo.jpg",
      "userId": "00927822409229306590"
     },
     "user_tz": 420
    },
    "id": "F-CFcEfQYqYr",
    "outputId": "362d6310-5c02-411c-e94a-a55389ec875a"
   },
   "outputs": [
    {
     "name": "stdout",
     "output_type": "stream",
     "text": [
      "Drive already mounted at /gdrive; to attempt to forcibly remount, call drive.mount(\"/gdrive\", force_remount=True).\n"
     ]
    }
   ],
   "source": [
    "# Mount Google Drive\n",
    "drive.mount('/gdrive')"
   ]
  },
  {
   "cell_type": "markdown",
   "metadata": {
    "colab_type": "text",
    "id": "srvoOV2BwVVG"
   },
   "source": [
    "Let's load the Excel sheet, with hyperparameters already saved on it:"
   ]
  },
  {
   "cell_type": "code",
   "execution_count": 5,
   "metadata": {
    "colab": {
     "base_uri": "https://localhost:8080/",
     "height": 337
    },
    "colab_type": "code",
    "executionInfo": {
     "elapsed": 1937,
     "status": "ok",
     "timestamp": 1560562237299,
     "user": {
      "displayName": "Arash Tavassoli",
      "photoUrl": "https://lh5.googleusercontent.com/-TL3G5GlWXr4/AAAAAAAAAAI/AAAAAAAAEUk/2aiZ3iwrMDo/s64/photo.jpg",
      "userId": "00927822409229306590"
     },
     "user_tz": 420
    },
    "id": "rULOqydiSwni",
    "outputId": "34922cbb-7731-4acf-c5ba-4a0d7a6001ef"
   },
   "outputs": [
    {
     "data": {
      "text/html": [
       "<div>\n",
       "<style scoped>\n",
       "    .dataframe tbody tr th:only-of-type {\n",
       "        vertical-align: middle;\n",
       "    }\n",
       "\n",
       "    .dataframe tbody tr th {\n",
       "        vertical-align: top;\n",
       "    }\n",
       "\n",
       "    .dataframe thead th {\n",
       "        text-align: right;\n",
       "    }\n",
       "</style>\n",
       "<table border=\"1\" class=\"dataframe\">\n",
       "  <thead>\n",
       "    <tr style=\"text-align: right;\">\n",
       "      <th></th>\n",
       "      <th>model</th>\n",
       "      <th>layer</th>\n",
       "      <th>type</th>\n",
       "      <th>size</th>\n",
       "      <th>filter_size</th>\n",
       "      <th>filter_s</th>\n",
       "      <th>filter_p</th>\n",
       "      <th>activ_fun</th>\n",
       "      <th>kernel_init</th>\n",
       "      <th>L2_reg</th>\n",
       "      <th>pool_type</th>\n",
       "      <th>pool_size</th>\n",
       "      <th>pool_s</th>\n",
       "      <th>pool_p</th>\n",
       "      <th>dropout_rate</th>\n",
       "      <th>num_classes</th>\n",
       "      <th>num_epochs</th>\n",
       "      <th>batch_size</th>\n",
       "      <th>optimizer</th>\n",
       "      <th>learning_rate</th>\n",
       "      <th>input_pixel</th>\n",
       "      <th>train_time</th>\n",
       "      <th>train_acc</th>\n",
       "      <th>val_acc</th>\n",
       "    </tr>\n",
       "  </thead>\n",
       "  <tbody>\n",
       "    <tr>\n",
       "      <th>95</th>\n",
       "      <td>9</td>\n",
       "      <td>1</td>\n",
       "      <td>CONV</td>\n",
       "      <td>64</td>\n",
       "      <td>3</td>\n",
       "      <td>1</td>\n",
       "      <td>same</td>\n",
       "      <td>relu</td>\n",
       "      <td>Xavier</td>\n",
       "      <td>0.0001</td>\n",
       "      <td>None</td>\n",
       "      <td>-</td>\n",
       "      <td>-</td>\n",
       "      <td>-</td>\n",
       "      <td>0.2</td>\n",
       "      <td>3</td>\n",
       "      <td>30</td>\n",
       "      <td>50</td>\n",
       "      <td>Adam</td>\n",
       "      <td>5e-05</td>\n",
       "      <td>100</td>\n",
       "      <td>208</td>\n",
       "      <td>86.12</td>\n",
       "      <td>90.23</td>\n",
       "    </tr>\n",
       "    <tr>\n",
       "      <th>96</th>\n",
       "      <td>9</td>\n",
       "      <td>2</td>\n",
       "      <td>CONV</td>\n",
       "      <td>64</td>\n",
       "      <td>3</td>\n",
       "      <td>2</td>\n",
       "      <td>same</td>\n",
       "      <td>relu</td>\n",
       "      <td>Xavier</td>\n",
       "      <td>0.0001</td>\n",
       "      <td>Max</td>\n",
       "      <td>3</td>\n",
       "      <td>1</td>\n",
       "      <td>valid</td>\n",
       "      <td>0.2</td>\n",
       "      <td>-</td>\n",
       "      <td>-</td>\n",
       "      <td>-</td>\n",
       "      <td>-</td>\n",
       "      <td>-</td>\n",
       "      <td>-</td>\n",
       "      <td>-</td>\n",
       "      <td>-</td>\n",
       "      <td>-</td>\n",
       "    </tr>\n",
       "    <tr>\n",
       "      <th>97</th>\n",
       "      <td>9</td>\n",
       "      <td>3</td>\n",
       "      <td>CONV</td>\n",
       "      <td>128</td>\n",
       "      <td>3</td>\n",
       "      <td>1</td>\n",
       "      <td>same</td>\n",
       "      <td>relu</td>\n",
       "      <td>Xavier</td>\n",
       "      <td>0.0001</td>\n",
       "      <td>None</td>\n",
       "      <td>-</td>\n",
       "      <td>-</td>\n",
       "      <td>-</td>\n",
       "      <td>0.3</td>\n",
       "      <td>-</td>\n",
       "      <td>-</td>\n",
       "      <td>-</td>\n",
       "      <td>-</td>\n",
       "      <td>-</td>\n",
       "      <td>-</td>\n",
       "      <td>-</td>\n",
       "      <td>-</td>\n",
       "      <td>-</td>\n",
       "    </tr>\n",
       "    <tr>\n",
       "      <th>98</th>\n",
       "      <td>9</td>\n",
       "      <td>4</td>\n",
       "      <td>CONV</td>\n",
       "      <td>128</td>\n",
       "      <td>3</td>\n",
       "      <td>2</td>\n",
       "      <td>same</td>\n",
       "      <td>relu</td>\n",
       "      <td>Xavier</td>\n",
       "      <td>0.0001</td>\n",
       "      <td>Max</td>\n",
       "      <td>3</td>\n",
       "      <td>1</td>\n",
       "      <td>valid</td>\n",
       "      <td>0.3</td>\n",
       "      <td>-</td>\n",
       "      <td>-</td>\n",
       "      <td>-</td>\n",
       "      <td>-</td>\n",
       "      <td>-</td>\n",
       "      <td>-</td>\n",
       "      <td>-</td>\n",
       "      <td>-</td>\n",
       "      <td>-</td>\n",
       "    </tr>\n",
       "    <tr>\n",
       "      <th>99</th>\n",
       "      <td>9</td>\n",
       "      <td>5</td>\n",
       "      <td>CONV</td>\n",
       "      <td>256</td>\n",
       "      <td>3</td>\n",
       "      <td>1</td>\n",
       "      <td>same</td>\n",
       "      <td>relu</td>\n",
       "      <td>Xavier</td>\n",
       "      <td>0.0001</td>\n",
       "      <td>None</td>\n",
       "      <td>-</td>\n",
       "      <td>-</td>\n",
       "      <td>-</td>\n",
       "      <td>0.3</td>\n",
       "      <td>-</td>\n",
       "      <td>-</td>\n",
       "      <td>-</td>\n",
       "      <td>-</td>\n",
       "      <td>-</td>\n",
       "      <td>-</td>\n",
       "      <td>-</td>\n",
       "      <td>-</td>\n",
       "      <td>-</td>\n",
       "    </tr>\n",
       "    <tr>\n",
       "      <th>100</th>\n",
       "      <td>9</td>\n",
       "      <td>6</td>\n",
       "      <td>CONV</td>\n",
       "      <td>256</td>\n",
       "      <td>3</td>\n",
       "      <td>2</td>\n",
       "      <td>same</td>\n",
       "      <td>relu</td>\n",
       "      <td>Xavier</td>\n",
       "      <td>0.0001</td>\n",
       "      <td>Max</td>\n",
       "      <td>3</td>\n",
       "      <td>1</td>\n",
       "      <td>valid</td>\n",
       "      <td>0.4</td>\n",
       "      <td>-</td>\n",
       "      <td>-</td>\n",
       "      <td>-</td>\n",
       "      <td>-</td>\n",
       "      <td>-</td>\n",
       "      <td>-</td>\n",
       "      <td>-</td>\n",
       "      <td>-</td>\n",
       "      <td>-</td>\n",
       "    </tr>\n",
       "    <tr>\n",
       "      <th>101</th>\n",
       "      <td>9</td>\n",
       "      <td>7</td>\n",
       "      <td>FC</td>\n",
       "      <td>128</td>\n",
       "      <td>-</td>\n",
       "      <td>-</td>\n",
       "      <td>-</td>\n",
       "      <td>relu</td>\n",
       "      <td>-</td>\n",
       "      <td>0.0001</td>\n",
       "      <td>-</td>\n",
       "      <td>-</td>\n",
       "      <td>-</td>\n",
       "      <td>-</td>\n",
       "      <td>0.2</td>\n",
       "      <td>-</td>\n",
       "      <td>-</td>\n",
       "      <td>-</td>\n",
       "      <td>-</td>\n",
       "      <td>-</td>\n",
       "      <td>-</td>\n",
       "      <td>-</td>\n",
       "      <td>-</td>\n",
       "      <td>-</td>\n",
       "    </tr>\n",
       "    <tr>\n",
       "      <th>102</th>\n",
       "      <td>9</td>\n",
       "      <td>8</td>\n",
       "      <td>FC</td>\n",
       "      <td>64</td>\n",
       "      <td>-</td>\n",
       "      <td>-</td>\n",
       "      <td>-</td>\n",
       "      <td>relu</td>\n",
       "      <td>-</td>\n",
       "      <td>0.0001</td>\n",
       "      <td>-</td>\n",
       "      <td>-</td>\n",
       "      <td>-</td>\n",
       "      <td>-</td>\n",
       "      <td>0.2</td>\n",
       "      <td>-</td>\n",
       "      <td>-</td>\n",
       "      <td>-</td>\n",
       "      <td>-</td>\n",
       "      <td>-</td>\n",
       "      <td>-</td>\n",
       "      <td>-</td>\n",
       "      <td>-</td>\n",
       "      <td>-</td>\n",
       "    </tr>\n",
       "  </tbody>\n",
       "</table>\n",
       "</div>"
      ],
      "text/plain": [
       "    model layer  type size  ... input_pixel train_time train_acc val_acc\n",
       "95      9     1  CONV   64  ...         100        208     86.12   90.23\n",
       "96      9     2  CONV   64  ...           -          -         -       -\n",
       "97      9     3  CONV  128  ...           -          -         -       -\n",
       "98      9     4  CONV  128  ...           -          -         -       -\n",
       "99      9     5  CONV  256  ...           -          -         -       -\n",
       "100     9     6  CONV  256  ...           -          -         -       -\n",
       "101     9     7    FC  128  ...           -          -         -       -\n",
       "102     9     8    FC   64  ...           -          -         -       -\n",
       "\n",
       "[8 rows x 24 columns]"
      ]
     },
     "metadata": {
      "tags": []
     },
     "output_type": "display_data"
    }
   ],
   "source": [
    "# Loading the Excel sheet with pre-defined hyperparameters:\n",
    "params_sheet = pd.read_excel(root_dir + '/Model Params.xlsx').drop(['Unnamed: 0'],axis=1)\n",
    "\n",
    "# Optional preview of the parameters for a selected model:\n",
    "model_number = 9\n",
    "display(params_sheet[params_sheet['model'] == model_number])"
   ]
  },
  {
   "cell_type": "markdown",
   "metadata": {
    "colab_type": "text",
    "id": "9WjsTOA9EAo1"
   },
   "source": [
    "### 1.2. Helper Functions\n",
    "\n",
    "We can now start building the helper functions that will load the data, compile the model and visualize the performance:\n",
    "\n",
    "#### 1.2.1. Model Compiler\n",
    "\n",
    "Given a model number (from available models on the Excel sheet), this function reads the hyperparameters from the Excel sheet and compile a sequantial model in Keras:"
   ]
  },
  {
   "cell_type": "code",
   "execution_count": 0,
   "metadata": {
    "colab": {},
    "colab_type": "code",
    "id": "mLp6MFwbYWDa"
   },
   "outputs": [],
   "source": [
    "# A function to construct the network based on parameters saved on the excel sheet:\n",
    "def model_compiler(params_sheet, model_number):\n",
    "    \n",
    "    # Filtering the params_sheet to parameters specific to one given model number\n",
    "    param_df = params_sheet[params_sheet['model'] == model_number].reset_index()\n",
    "    \n",
    "    # Loding hyperparams\n",
    "    num_epochs = int(param_df.loc[0, 'num_epochs'])\n",
    "    mini_batch_size = int(param_df.loc[0, 'batch_size'])\n",
    "    num_classes = int(param_df.loc[0, 'num_classes'])\n",
    "    optimizer_type = param_df.loc[0, 'optimizer']\n",
    "    learning_rate = param_df.loc[0, 'learning_rate']\n",
    "    input_pixel = param_df.loc[0, 'input_pixel']\n",
    "    \n",
    "    # Starting to construct the sequential model\n",
    "    model = Sequential()\n",
    "    \n",
    "    # The CONV layers\n",
    "    for i in param_df[param_df['type'] == 'CONV'].index:\n",
    "    \n",
    "        if param_df.loc[i, 'kernel_init'] == 'Xavier':\n",
    "            initializer = keras.initializers.glorot_normal(seed = 1)\n",
    "        else:\n",
    "            print('Initializer Undefined')\n",
    "            break\n",
    "        \n",
    "        # For layer 1 we need to define the input_shape\n",
    "        if i == 0:    \n",
    "            model.add(Conv2D(filters = param_df.loc[i, 'size'], \n",
    "                             kernel_size = param_df.loc[i, 'filter_size'], \n",
    "                             strides = (param_df.loc[i, 'filter_s'], param_df.loc[i, 'filter_s']), \n",
    "                             padding = param_df.loc[i, 'filter_p'], \n",
    "                             kernel_initializer = initializer, \n",
    "                             kernel_regularizer = regularizers.l2(param_df.loc[i, 'L2_reg']),\n",
    "                             input_shape = (input_pixel, input_pixel, 1)))\n",
    "        else:\n",
    "            model.add(Conv2D(filters = param_df.loc[i, 'size'], \n",
    "                             kernel_size = param_df.loc[i, 'filter_size'], \n",
    "                             strides = (param_df.loc[i, 'filter_s'], param_df.loc[i, 'filter_s']), \n",
    "                             padding = param_df.loc[i, 'filter_p'], \n",
    "                             kernel_initializer = initializer, \n",
    "                             kernel_regularizer = regularizers.l2(param_df.loc[i, 'L2_reg'])))\n",
    "        \n",
    "        # Using batch normalization\n",
    "        model.add(BatchNormalization())\n",
    "        \n",
    "        model.add(Activation(param_df.loc[i, 'activ_fun']))\n",
    "        \n",
    "        # Add pooling\n",
    "        if param_df.loc[i, 'pool_type'] == 'Max':\n",
    "            model.add(MaxPooling2D(pool_size = (param_df.loc[i, 'pool_size'], param_df.loc[i, 'pool_size']), \n",
    "                                   strides = (param_df.loc[i, 'pool_s'], param_df.loc[i, 'pool_s']), \n",
    "                                   padding = param_df.loc[i, 'pool_p']))\n",
    "        if param_df.loc[i, 'pool_type'] == 'Average':\n",
    "            model.add(AveragePooling2D(pool_size = (param_df.loc[i, 'pool_size'], param_df.loc[i, 'pool_size']), \n",
    "                                       strides = (param_df.loc[i, 'pool_s'], param_df.loc[i, 'pool_s']), \n",
    "                                       padding = param_df.loc[i, 'pool_p']))\n",
    "        model.add(SpatialDropout2D(rate = param_df.loc[i, 'dropout_rate']))\n",
    "    \n",
    "    # Flattening\n",
    "    model.add(Flatten())\n",
    "    \n",
    "    # The fully connected layers\n",
    "    for i in param_df[param_df['type'] == 'FC'].index:\n",
    "        model.add(Dense(units = param_df.loc[i, 'size'], \n",
    "                        activation = param_df.loc[i, 'activ_fun']))\n",
    "\n",
    "        model.add(Dropout(rate = param_df.loc[i, 'dropout_rate']))\n",
    "    \n",
    "    # SoftMax layer as the output\n",
    "    model.add(Dense(units = num_classes, activation='softmax'))\n",
    "\n",
    "    # Compiling the model\n",
    "    if optimizer_type == 'Adam':\n",
    "        model.compile(optimizer = keras.optimizers.Adam(lr = learning_rate, epsilon = 1e-8),\n",
    "                      loss = 'categorical_crossentropy', \n",
    "                  metrics = ['accuracy'])\n",
    "    return model, num_epochs, mini_batch_size, input_pixel"
   ]
  },
  {
   "cell_type": "markdown",
   "metadata": {
    "colab_type": "text",
    "id": "7TNGPg48EApZ"
   },
   "source": [
    "#### 1.2.2. Performance Visualizer\n",
    "Given the `history` output from the trained model, this function prints out the training, validation and test accuracies, as well as the accuracy plots and confusion matrix for the trained model:"
   ]
  },
  {
   "cell_type": "code",
   "execution_count": 0,
   "metadata": {
    "colab": {},
    "colab_type": "code",
    "id": "Sc3LVK0eYWDh"
   },
   "outputs": [],
   "source": [
    "# A function to visualize the accuracies, confusion matrix and classification report:\n",
    "def summary_visualizer(history, path, X_test, y_test, params_sheet, model_number):    \n",
    "    \n",
    "    param_df = params_sheet[params_sheet['model'] == model_number].reset_index()\n",
    "    num_classes = int(param_df.loc[0, 'num_classes'])\n",
    "    \n",
    "    # Selecting the right expression names based on num of classes\n",
    "    if num_classes == 3:\n",
    "        expression_names = ['Happy', 'Sad', 'Surprised']\n",
    "    if num_classes == 5:\n",
    "        expression_names = ['Neutral','Happy', 'Sad', 'Surprised','Angry']\n",
    "    \n",
    "    clear_output(wait = True)\n",
    "    \n",
    "    # Defining true and predicted labels\n",
    "    y_true = np.argmax(y_test, axis = 1)\n",
    "    y_pred = np.argmax(model.predict(X_test), axis = 1)\n",
    "    \n",
    "    print(f\"Training accuracy:\\t({(history.history['acc'][-1]*100):.2f}%, {(max(history.history['acc'])*100):.2f}%) (last epoch, highest)\")\n",
    "    print(f\"Validation accuracy:\\t({(history.history['val_acc'][-1]*100):.2f}%, {(max(history.history['val_acc'])*100):.2f}%) (last epoch, highest)\")\n",
    "    print(f\"Test accuracy:\\t\\t({(sum(y_true == y_pred) / len(y_true) * 100):.2f}%)\\n\")\n",
    "\n",
    "    # Constructing the confusion matrix and calculating percentage of correct and incorrect predictions\n",
    "    conf_matrix = confusion_matrix(y_true = y_true, y_pred = y_pred)\n",
    "    conf_matrix_df = pd.DataFrame(data = conf_matrix, columns = expression_names, index = expression_names)\n",
    "    conf_matrix_percent = round(conf_matrix_df/conf_matrix_df.sum(axis = 1)*100, 2)\n",
    "    \n",
    "    print('Model accuracy and loss function:\\n')\n",
    "\n",
    "    plt.figure(figsize = (14,4))\n",
    "    gridspec.GridSpec(1,2)\n",
    "\n",
    "    # Summarize history for accuracy\n",
    "    plt.subplot2grid((1,2), (0,0))\n",
    "    plt.plot(history.history['acc'])\n",
    "    plt.plot(history.history['val_acc'])\n",
    "    plt.title('Model Accuracy')\n",
    "    plt.ylabel('Accuracy')\n",
    "    plt.xlabel('Epoch')\n",
    "    plt.legend(['Train', 'Test'], loc='lower right')\n",
    "\n",
    "    # Summarize history for loss\n",
    "    plt.subplot2grid((1,2), (0,1))\n",
    "    plt.plot(history.history['loss'])\n",
    "    plt.plot(history.history['val_loss'])\n",
    "    plt.title('Model Loss')\n",
    "    plt.ylabel('Loss')\n",
    "    plt.xlabel('Epoch')\n",
    "    plt.legend(['Train', 'Test'], loc='upper right');\n",
    "    plt.savefig(path + os.sep + \"Accuracy_Plot.png\")\n",
    "    plt.show();\n",
    "\n",
    "    print('The confusion matrix:\\n')\n",
    "\n",
    "    plt.figure(figsize = (12,4))\n",
    "    gridspec.GridSpec(1,2)\n",
    "\n",
    "    # Plotting the confusion matrix\n",
    "    plt.subplot2grid((1,2), (0,0))\n",
    "    sns.heatmap(conf_matrix_df, annot=True, cmap = 'Blues', fmt='g', linewidths = .8)\n",
    "    plt.ylabel('True label', labelpad = 5)\n",
    "    plt.xlabel('Predicted label', labelpad = 20)\n",
    "    plt.title('Confusion matrix')\n",
    "    plt.yticks(rotation=0);\n",
    "\n",
    "    # Plotting the Percentage of correct and incorrect predictions for each class\n",
    "    plt.subplot2grid((1,2), (0,1))\n",
    "    sns.heatmap(conf_matrix_percent, annot=True, cmap = 'Blues', fmt='g', linewidths = .8)\n",
    "    plt.ylabel('True label', labelpad = 5)\n",
    "    plt.xlabel('Predicted label', labelpad = 20)\n",
    "    plt.title('Percentage of correct/incorrect predictions for each class\\n(Predicted / Total in True Class)', fontsize = 10)\n",
    "    plt.yticks(rotation=0);\n",
    "\n",
    "    plt.tight_layout(w_pad=8)\n",
    "    plt.savefig(path + os.sep + \"Confusion_matrix.png\")\n",
    "    plt.show()\n",
    "    \n",
    "    # Printing the classification report\n",
    "    print('\\nThe classification report:\\n')\n",
    "    print(classification_report(y_true = y_true, \n",
    "                                y_pred = y_pred, \n",
    "                                target_names = expression_names))"
   ]
  },
  {
   "cell_type": "markdown",
   "metadata": {
    "colab_type": "text",
    "id": "EFTuOWYrEApb"
   },
   "source": [
    "#### 1.2.3. Data Loader\n",
    "This function simply loads the `.npy` files that we exported in the previous notebook, based on the number of classes that is defined on the Excel sheet (for a given model number):"
   ]
  },
  {
   "cell_type": "code",
   "execution_count": 0,
   "metadata": {
    "colab": {},
    "colab_type": "code",
    "id": "v9Tk8dS0YM79"
   },
   "outputs": [],
   "source": [
    "# A function to load the appropriate data files:\n",
    "def data_loader(params_sheet, model_number):\n",
    "    param_df = params_sheet[params_sheet['model'] == model_number].reset_index()\n",
    "    num_classes = int(param_df.loc[0, 'num_classes'])\n",
    "    \n",
    "    if num_classes == 3:\n",
    "        X_train = np.load(root_dir + '/Data/3 Expressions/X_train_3classes.npy')\n",
    "        X_test = np.load(root_dir + '/Data/3 Expressions/X_test_3classes.npy')\n",
    "        X_val = np.load(root_dir + '/Data/3 Expressions/X_val_3classes.npy')\n",
    "        y_train = np.load(root_dir + '/Data/3 Expressions/y_train_3classes.npy')\n",
    "        y_test = np.load(root_dir + '/Data/3 Expressions/y_test_3classes.npy')\n",
    "        y_val = np.load(root_dir + '/Data/3 Expressions/y_val_3classes.npy')\n",
    "\n",
    "    elif num_classes == 5:\n",
    "        X_train = np.load(root_dir + '/Data/5 Expressions/X_train_5classes.npy')\n",
    "        X_test = np.load(root_dir + '/Data/5 Expressions/X_test_5classes.npy')\n",
    "        X_val = np.load(root_dir + '/Data/5 Expressions/X_val_5classes.npy')\n",
    "        y_train = np.load(root_dir + '/Data/5 Expressions/y_train_5classes.npy')\n",
    "        y_test = np.load(root_dir + '/Data/5 Expressions/y_test_5classes.npy')\n",
    "        y_val = np.load(root_dir + '/Data/5 Expressions/y_val_5classes.npy')\n",
    "        \n",
    "    print(f'X_train shape:\\t{X_train.shape}')\n",
    "    print(f'y_train shape:\\t{y_train.shape}')\n",
    "    print(f'X_val shape:\\t{X_val.shape}')\n",
    "    print(f'y_val shape:\\t{y_val.shape}')\n",
    "    print(f'X_test shape:\\t{X_test.shape}')\n",
    "    print(f'y_test shape:\\t{y_test.shape}')\n",
    "\n",
    "    return X_train, X_test, X_val, y_train, y_test, y_val"
   ]
  },
  {
   "cell_type": "markdown",
   "metadata": {
    "colab_type": "text",
    "id": "9xCoUf_TEApo"
   },
   "source": [
    "### 1.3. Model Training\n",
    "\n",
    "With the helper functions defined, we can now train the CNNs, first with 3 expressions (Happy, Sad, Surprised) and then with 5 expressions (Happy, Sad, Surprised, Angry and Neutral):\n",
    "\n",
    "#### 1.3.1. Model with 3-Classes (Happy, Sad, Surprised)\n",
    "\n",
    "For 3 classe, training is done on different combinations of hyperparameters and the best performing model is found to be Model # 9 on the Excel sheet with the following key parameters and performance metrics:\n",
    "\n",
    "<img src=\"Data/Images/3class_summary.png\" style=\"width: 900px;\"/>\n",
    "\n"
   ]
  },
  {
   "cell_type": "code",
   "execution_count": 0,
   "metadata": {
    "colab": {},
    "colab_type": "code",
    "id": "SOhzKqfBEApo"
   },
   "outputs": [],
   "source": [
    "# Loading the data (3 classes):\n",
    "model_number = 9   # See the excel sheet for list of other models\n",
    "X_train, X_test, X_val, y_train, y_test, y_val = data_loader(params_sheet, model_number)"
   ]
  },
  {
   "cell_type": "code",
   "execution_count": 0,
   "metadata": {
    "colab": {},
    "colab_type": "code",
    "id": "3RLc3osmEApp"
   },
   "outputs": [],
   "source": [
    "# Compiling the model (3 classes):\n",
    "model, num_epochs, mini_batch_size, input_pixel = model_compiler(params_sheet, model_number)"
   ]
  },
  {
   "cell_type": "code",
   "execution_count": 0,
   "metadata": {
    "colab": {
     "base_uri": "https://localhost:8080/",
     "height": 932
    },
    "colab_type": "code",
    "executionInfo": {
     "elapsed": 1343,
     "status": "ok",
     "timestamp": 1560214368638,
     "user": {
      "displayName": "Arash Tavassoli",
      "photoUrl": "https://lh5.googleusercontent.com/-TL3G5GlWXr4/AAAAAAAAAAI/AAAAAAAAEUk/2aiZ3iwrMDo/s64/photo.jpg",
      "userId": "00927822409229306590"
     },
     "user_tz": 420
    },
    "id": "t321xtBQtNyF",
    "outputId": "53625a7c-ad8b-4def-beb4-b4bde59c1c13",
    "scrolled": false
   },
   "outputs": [
    {
     "name": "stdout",
     "output_type": "stream",
     "text": [
      "Training accuracy:\t(86.12%, 86.12%) (last epoch, highest)\n",
      "Validation accuracy:\t(90.15%, 90.23%) (last epoch, highest)\n",
      "Test accuracy:\t\t(90.19%)\n",
      "\n",
      "Model accuracy and loss function:\n",
      "\n"
     ]
    },
    {
     "data": {
      "image/png": "[encoded data removed]",
      "text/plain": [
       "<Figure size 1008x288 with 2 Axes>"
      ]
     },
     "metadata": {
      "tags": []
     },
     "output_type": "display_data"
    },
    {
     "name": "stdout",
     "output_type": "stream",
     "text": [
      "The confusion matrix:\n",
      "\n"
     ]
    },
    {
     "data": {
      "image/png": "[encoded data removed]",
      "text/plain": [
       "<Figure size 864x288 with 4 Axes>"
      ]
     },
     "metadata": {
      "tags": []
     },
     "output_type": "display_data"
    },
    {
     "name": "stdout",
     "output_type": "stream",
     "text": [
      "\n",
      "The classification report:\n",
      "\n",
      "              precision    recall  f1-score   support\n",
      "\n",
      "     Neutral       0.89      0.94      0.92      3500\n",
      "       Happy       0.92      0.88      0.90      3500\n",
      "         Sad       0.89      0.89      0.89      3205\n",
      "\n",
      "    accuracy                           0.90     10205\n",
      "   macro avg       0.90      0.90      0.90     10205\n",
      "weighted avg       0.90      0.90      0.90     10205\n",
      "\n"
     ]
    }
   ],
   "source": [
    "# Training the model (3 classes):\n",
    "start_time = time.time()\n",
    "history = model.fit(X_train, y_train, validation_data = (X_val, y_val), \n",
    "                    batch_size = mini_batch_size, \n",
    "                    epochs = num_epochs, verbose = 2)\n",
    "end_time = time.time()\n",
    "\n",
    "# Creating a new directory to save model and history:\n",
    "path = root_dir + '/Models/' + str(model_number)\n",
    "if not os.path.exists(path):\n",
    "    os.mkdir(path)\n",
    "\n",
    "model.save(path + os.sep + 'model.h5')                                         # Saving the model\n",
    "json.dump(history.history, open(path + os.sep + 'Model_history.json', 'w'))    # Saving the history\n",
    "plot_model(model, to_file=path + os.sep + 'Model.png', show_shapes = True)     # Saving the model visualization\n",
    "\n",
    "# Updating the Excel sheet:\n",
    "row_index = params_sheet[params_sheet['model'] == model_number].index[0]\n",
    "params_sheet.loc[row_index, 'train_acc'] = round(max(history.history['acc'])*100, 2)\n",
    "params_sheet.loc[row_index, 'val_acc'] = round(max(history.history['val_acc'])*100, 2)\n",
    "params_sheet.loc[row_index, 'train_time'] = round((end_time - start_time)/60)\n",
    "params_sheet.to_excel(root_dir + '/Model Params.xlsx')\n",
    "\n",
    "# Plotting training history:\n",
    "summary_visualizer(history, path, X_test, y_test, params_sheet, model_number)"
   ]
  },
  {
   "cell_type": "markdown",
   "metadata": {
    "colab_type": "text",
    "id": "QgSsW3APEApi"
   },
   "source": [
    "#### 1.3.2. Model with 5-Classes (Happy, Sad, Surprised, Angry and Neutral)\n",
    "\n",
    "Similarly, for 5 classes, training is done on different combinations of hyperparameters and the best performing model is found to be Model # 11 on the Excel sheet with the following key parameters and performance metrics:\n",
    "\n",
    "<img src=\"Data/Images/5class_summary.png\" style=\"width: 900px;\"/>"
   ]
  },
  {
   "cell_type": "code",
   "execution_count": 0,
   "metadata": {
    "colab": {},
    "colab_type": "code",
    "id": "LAHbHBnVEApj"
   },
   "outputs": [],
   "source": [
    "# Loading the data (5 Classes):\n",
    "model_number = 11   # See the excel sheet for list of other models\n",
    "X_train, X_test, X_val, y_train, y_test, y_val = data_loader(params_sheet, model_number)"
   ]
  },
  {
   "cell_type": "code",
   "execution_count": 0,
   "metadata": {
    "colab": {},
    "colab_type": "code",
    "id": "YfsgsSgyEApj"
   },
   "outputs": [],
   "source": [
    "# Compiling the model (5 Classes):\n",
    "model, num_epochs, mini_batch_size, input_pixel = model_compiler(params_sheet, model_number)"
   ]
  },
  {
   "cell_type": "code",
   "execution_count": 0,
   "metadata": {
    "colab": {
     "base_uri": "https://localhost:8080/",
     "height": 1000
    },
    "colab_type": "code",
    "executionInfo": {
     "elapsed": 2506,
     "status": "ok",
     "timestamp": 1560171734300,
     "user": {
      "displayName": "Arash Tavassoli",
      "photoUrl": "https://lh5.googleusercontent.com/-TL3G5GlWXr4/AAAAAAAAAAI/AAAAAAAAEUk/2aiZ3iwrMDo/s64/photo.jpg",
      "userId": "00927822409229306590"
     },
     "user_tz": 420
    },
    "id": "MS6ZmZNuwmrB",
    "outputId": "3cb7ef0c-b744-4762-9fd6-b15aaf0251bc"
   },
   "outputs": [
    {
     "name": "stdout",
     "output_type": "stream",
     "text": [
      "Training accuracy:\t(71.24%, 71.24%) (last epoch, highest)\n",
      "Validation accuracy:\t(75.69%, 75.96%) (last epoch, highest)\n",
      "Test accuracy:\t\t(75.66%)\n",
      "\n",
      "Model accuracy and loss function:\n",
      "\n"
     ]
    },
    {
     "data": {
      "image/png": "[encoded data removed]",
      "text/plain": [
       "<Figure size 1008x288 with 2 Axes>"
      ]
     },
     "metadata": {
      "tags": []
     },
     "output_type": "display_data"
    },
    {
     "name": "stdout",
     "output_type": "stream",
     "text": [
      "The confusion matrix:\n",
      "\n"
     ]
    },
    {
     "data": {
      "image/png": "[encoded data removed]",
      "text/plain": [
       "<Figure size 864x288 with 4 Axes>"
      ]
     },
     "metadata": {
      "tags": []
     },
     "output_type": "display_data"
    },
    {
     "name": "stdout",
     "output_type": "stream",
     "text": [
      "\n",
      "The classification report:\n",
      "\n",
      "              precision    recall  f1-score   support\n",
      "\n",
      "     Neutral       0.63      0.66      0.64      3500\n",
      "       Happy       0.90      0.83      0.86      3500\n",
      "         Sad       0.67      0.75      0.71      3500\n",
      "   Surprised       0.82      0.83      0.83      3205\n",
      "       Angry       0.80      0.72      0.76      3500\n",
      "\n",
      "    accuracy                           0.76     17205\n",
      "   macro avg       0.76      0.76      0.76     17205\n",
      "weighted avg       0.76      0.76      0.76     17205\n",
      "\n"
     ]
    }
   ],
   "source": [
    "# Training the model (5 Classes):\n",
    "start_time = time.time()\n",
    "history = model.fit(X_train, y_train, validation_data = (X_val, y_val), \n",
    "                    batch_size = mini_batch_size, \n",
    "                    epochs = num_epochs, verbose = 2)\n",
    "end_time = time.time()\n",
    "\n",
    "# Creating a new directory to save model and history files:\n",
    "path = root_dir + '/Models/' + str(model_number)\n",
    "if not os.path.exists(path):\n",
    "    os.mkdir(path)\n",
    "\n",
    "model.save(path + os.sep + 'model.h5')                                         # Saving the model\n",
    "json.dump(history.history, open(path + os.sep + 'Model_history.json', 'w'))    # Saving the history\n",
    "plot_model(model, to_file=path + os.sep + 'Model.png', show_shapes = True)     # Saving the model visualization\n",
    "\n",
    "# Updating the Excel sheet:\n",
    "row_index = params_sheet[params_sheet['model'] == model_number].index[0]\n",
    "params_sheet.loc[row_index, 'train_acc'] = round(max(history.history['acc'])*100, 2)\n",
    "params_sheet.loc[row_index, 'val_acc'] = round(max(history.history['val_acc'])*100, 2)\n",
    "params_sheet.loc[row_index, 'train_time'] = round((end_time - start_time)/60)\n",
    "params_sheet.to_excel(root_dir + '/Model Params.xlsx')\n",
    "\n",
    "# Plotting training history:\n",
    "summary_visualizer(history, path, X_test, y_test, params_sheet, model_number)"
   ]
  },
  {
   "cell_type": "markdown",
   "metadata": {
    "colab_type": "text",
    "id": "5ABu9fiMaed1"
   },
   "source": [
    "One interesting observation above is that for both 3-class and 5-class models, the validation accuracy (test on the plot) is always higher than the training accuracy, although a reversed trend is expected in most model training processes (similar observation with the loss values). This is an expected trend from the model training process on Keras for the following two reasons (source: [Keras FAQ](https://keras.io/getting-started/faq/#why-is-the-training-loss-much-higher-than-the-testing-loss)):\n",
    "\n",
    "1. Regularization mechanisms, such as Dropout and L1/L2 weight regularization, are turned off at testing/validation time.\n",
    "\n",
    "2. The training loss is the average of the losses over each batch of training data. Because the model is changing over time, the loss over the first batches of an epoch is generally higher than over the last batches. On the other hand, the testing/validation loss for an epoch is computed using the model as it is at the end of the epoch, resulting in a lower loss.\n",
    "\n",
    "### 1.4. Performance Analysis:\n",
    "\n",
    "As the last section of this notebook, we look back at the human accuracies that we defined in the fist notebook (EDA) and compare our model accuracies with the accuracies that we got from hand-labelling a set of 1000 sample images for 5 classes and 600 sample images for 3 classes:"
   ]
  },
  {
   "cell_type": "code",
   "execution_count": 0,
   "metadata": {
    "colab": {
     "base_uri": "https://localhost:8080/",
     "height": 295
    },
    "colab_type": "code",
    "executionInfo": {
     "elapsed": 396,
     "status": "ok",
     "timestamp": 1560306979273,
     "user": {
      "displayName": "Arash Tavassoli",
      "photoUrl": "https://lh5.googleusercontent.com/-TL3G5GlWXr4/AAAAAAAAAAI/AAAAAAAAEUk/2aiZ3iwrMDo/s64/photo.jpg",
      "userId": "00927822409229306590"
     },
     "user_tz": 420
    },
    "id": "vlcUVJB0bq22",
    "outputId": "03174999-a0d3-4c08-ca6c-17c66195482b"
   },
   "outputs": [
    {
     "data": {
      "image/png": "[encoded data removed]",
      "text/plain": [
       "<Figure size 432x288 with 1 Axes>"
      ]
     },
     "metadata": {
      "tags": []
     },
     "output_type": "display_data"
    }
   ],
   "source": [
    "# Loading the data for 3 Classes:\n",
    "model_number = 9\n",
    "with open(root_dir + '/Models/9/Model_history.json') as json_file:  \n",
    "    history = json.load(json_file)\n",
    "    \n",
    "plt.plot(history['val_acc'])\n",
    "plt.title('Model Accuracy (3-Class)')\n",
    "plt.ylabel('Validation Accuracy')\n",
    "plt.xlabel('Epoch')\n",
    "plt.axhline(0.8483, color = 'red', ls = ':', linewidth=2)\n",
    "plt.text(11.5, 0.83, 'Human Accuracy = 84.8%', color = 'red', size = 14)\n",
    "plt.text(12.3, 0.915, 'Model Accuracy = 90.2%', color = '#186aa3', size = 14)\n",
    "plt.ylim((0.7, 0.95));"
   ]
  },
  {
   "cell_type": "code",
   "execution_count": 0,
   "metadata": {
    "colab": {
     "base_uri": "https://localhost:8080/",
     "height": 295
    },
    "colab_type": "code",
    "executionInfo": {
     "elapsed": 436,
     "status": "ok",
     "timestamp": 1560306857216,
     "user": {
      "displayName": "Arash Tavassoli",
      "photoUrl": "https://lh5.googleusercontent.com/-TL3G5GlWXr4/AAAAAAAAAAI/AAAAAAAAEUk/2aiZ3iwrMDo/s64/photo.jpg",
      "userId": "00927822409229306590"
     },
     "user_tz": 420
    },
    "id": "DpBdeFxlZEHX",
    "outputId": "2e1fc816-5eb8-4280-949f-c887de511e64",
    "scrolled": true
   },
   "outputs": [
    {
     "data": {
      "image/png": "[encoded data removed]",
      "text/plain": [
       "<Figure size 432x288 with 1 Axes>"
      ]
     },
     "metadata": {
      "tags": []
     },
     "output_type": "display_data"
    }
   ],
   "source": [
    "# Loading the data for 5 Classes:\n",
    "model_number = 11\n",
    "with open(root_dir + '/Models/11/Model_history.json') as json_file:  \n",
    "    history = json.load(json_file)\n",
    "    \n",
    "plt.plot(history['val_acc'])\n",
    "plt.title('Model Accuracy (5-Class)')\n",
    "plt.ylabel('Validation Accuracy')\n",
    "plt.xlabel('Epoch')\n",
    "plt.axhline(0.6930, color = 'red', ls = ':', linewidth=2)\n",
    "plt.text(16.68, 0.775, 'Model Accuracy = 75.9%', color = '#186aa3', size = 14)\n",
    "plt.text(15.5, 0.67, 'Human Accuracy = 69.3%', color = 'red', size = 14)\n",
    "plt.ylim((0.54, 0.82));"
   ]
  },
  {
   "cell_type": "markdown",
   "metadata": {
    "colab_type": "text",
    "id": "Rr_8yAvkwVVl"
   },
   "source": [
    "\n",
    "\n"
   ]
  },
  {
   "cell_type": "markdown",
   "metadata": {
    "colab_type": "text",
    "id": "Ncjwg89vwVVl"
   },
   "source": [
    "Although the validation accurcies of 90.2% and 75.9% for the 3-class and 5-class models may not sound super impressive, it is shown that the models are still performing superior to what a human can do on the same set of data. This is once again explained by the fact that many images in this dataset are difficult to classify, even for a human mind.\n",
    "\n",
    "We can now use the saved models in the next notebook to build a real-time facial expression recognizer!"
   ]
  }
 ],
 "metadata": {
  "accelerator": "GPU",
  "colab": {
   "collapsed_sections": [],
   "name": "Part 3 - Model Training and Analysis.ipynb",
   "provenance": [],
   "version": "0.3.2"
  },
  "kernelspec": {
   "display_name": "Python 3",
   "language": "python",
   "name": "python3"
  },
  "language_info": {
   "codemirror_mode": {
    "name": "ipython",
    "version": 3
   },
   "file_extension": ".py",
   "mimetype": "text/x-python",
   "name": "python",
   "nbconvert_exporter": "python",
   "pygments_lexer": "ipython3",
   "version": "3.7.2"
  }
 },
 "nbformat": 4,
 "nbformat_minor": 1
}
