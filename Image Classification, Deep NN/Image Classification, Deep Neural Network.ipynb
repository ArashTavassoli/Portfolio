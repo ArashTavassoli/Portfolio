{
 "cells": [
  {
   "cell_type": "markdown",
   "metadata": {},
   "source": [
    "Import Packages:"
   ]
  },
  {
   "cell_type": "code",
   "execution_count": 1,
   "metadata": {},
   "outputs": [],
   "source": [
    "import numpy as np\n",
    "import pandas as pd\n",
    "import matplotlib.pyplot as plt\n",
    "import h5py\n",
    "\n",
    "%matplotlib inline\n",
    "np.random.seed(1)"
   ]
  },
  {
   "cell_type": "markdown",
   "metadata": {},
   "source": [
    "Load the data:"
   ]
  },
  {
   "cell_type": "code",
   "execution_count": 2,
   "metadata": {},
   "outputs": [],
   "source": [
    "## Open the file for reading:\n",
    "train_data = h5py.File('datasets/train_catvnoncat.h5', 'r')\n",
    "test_data = h5py.File('datasets/test_catvnoncat.h5', 'r')"
   ]
  },
  {
   "cell_type": "code",
   "execution_count": 3,
   "metadata": {},
   "outputs": [
    {
     "name": "stdout",
     "output_type": "stream",
     "text": [
      "['list_classes', 'train_set_x', 'train_set_y']\n",
      "['list_classes', 'test_set_x', 'test_set_y']\n"
     ]
    }
   ],
   "source": [
    "## h5py files act like a Python dictionary, thus we can check the keys:\n",
    "print(list(train_data.keys()))\n",
    "print(list(test_data.keys()))"
   ]
  },
  {
   "cell_type": "code",
   "execution_count": 4,
   "metadata": {},
   "outputs": [],
   "source": [
    "## Extracting the test and train datasets:\n",
    "train_set_x = np.array(train_data[\"train_set_x\"]) # train set features (x)\n",
    "train_set_y = np.array(train_data[\"train_set_y\"]) # train set labels (y)\n",
    "\n",
    "test_set_x = np.array(test_data[\"test_set_x\"]) # test set features (x)\n",
    "test_set_y = np.array(test_data[\"test_set_y\"]) # test set labels (y)"
   ]
  },
  {
   "cell_type": "code",
   "execution_count": 5,
   "metadata": {},
   "outputs": [
    {
     "data": {
      "image/png": "[encoded data removed]",
      "text/plain": [
       "<Figure size 432x288 with 1 Axes>"
      ]
     },
     "metadata": {
      "needs_background": "light"
     },
     "output_type": "display_data"
    }
   ],
   "source": [
    "## Displaying a sample image, i.e. data on a 2D regular raster:\n",
    "index = 102\n",
    "plt.imshow(train_set_x[index]);"
   ]
  },
  {
   "cell_type": "code",
   "execution_count": 6,
   "metadata": {},
   "outputs": [
    {
     "name": "stdout",
     "output_type": "stream",
     "text": [
      "The shape of train_set_x is:\t (209, 64, 64, 3)\n",
      "The shape of train_set_y is:\t (209,)\n",
      "The shape of test_set_x is:\t (50, 64, 64, 3)\n",
      "The shape of test_set_y is:\t (50,)\n"
     ]
    }
   ],
   "source": [
    "## Check dataset shapes:\n",
    "print('The shape of train_set_x is:\\t', train_set_x.shape)\n",
    "print('The shape of train_set_y is:\\t', train_set_y.shape)\n",
    "print('The shape of test_set_x is:\\t', test_set_x.shape)\n",
    "print('The shape of test_set_y is:\\t', test_set_y.shape)"
   ]
  },
  {
   "cell_type": "code",
   "execution_count": 7,
   "metadata": {},
   "outputs": [],
   "source": [
    "## Number of samples (m):\n",
    "m_train = train_set_y.shape[0]\n",
    "m_test = test_set_y.shape[0]"
   ]
  },
  {
   "cell_type": "code",
   "execution_count": 8,
   "metadata": {},
   "outputs": [],
   "source": [
    "## Reshaping Ys to (1,m):\n",
    "train_set_y = train_set_y.reshape((1, m_train))\n",
    "test_set_y = test_set_y.reshape((1, m_test))"
   ]
  },
  {
   "cell_type": "code",
   "execution_count": 9,
   "metadata": {},
   "outputs": [],
   "source": [
    "## Reshaping Xs to (64 * 64 * 3, m):\n",
    "train_set_x = train_set_x.reshape(m_train, -1).T\n",
    "test_set_x = test_set_x.reshape(m_test, -1).T\n",
    "\n",
    "## Standardizing to have all features between 0 and 1:\n",
    "train_set_x = train_set_x/255.\n",
    "test_set_x = test_set_x/255."
   ]
  },
  {
   "cell_type": "code",
   "execution_count": 10,
   "metadata": {},
   "outputs": [
    {
     "name": "stdout",
     "output_type": "stream",
     "text": [
      "The shape of train_set_x is:\t (12288, 209)\n",
      "The shape of train_set_y is:\t (1, 209)\n",
      "The shape of test_set_x is:\t (12288, 50)\n",
      "The shape of test_set_y is:\t (1, 50)\n",
      "Number of training examples:\t 209\n",
      "Number of test examples:\t 50\n"
     ]
    }
   ],
   "source": [
    "## Re-check dataset shapes:\n",
    "print('The shape of train_set_x is:\\t', train_set_x.shape)\n",
    "print('The shape of train_set_y is:\\t', train_set_y.shape)\n",
    "print('The shape of test_set_x is:\\t', test_set_x.shape)\n",
    "print('The shape of test_set_y is:\\t', test_set_y.shape)\n",
    "print('Number of training examples:\\t', m_train)\n",
    "print('Number of test examples:\\t', m_test)"
   ]
  },
  {
   "cell_type": "code",
   "execution_count": 11,
   "metadata": {},
   "outputs": [],
   "source": [
    "## Try predicting using Logistic Regression\n",
    "\n",
    "pass"
   ]
  },
  {
   "cell_type": "markdown",
   "metadata": {},
   "source": [
    "Define Sigma and ReLU (and their derivatives):"
   ]
  },
  {
   "cell_type": "code",
   "execution_count": 12,
   "metadata": {},
   "outputs": [],
   "source": [
    "## Sigmoid function:\n",
    "def sigmoid(Z):\n",
    "    \"\"\"\n",
    "    Implementing the sigmoid activation function\n",
    "    \n",
    "    Input:\n",
    "    Z: numpy array\n",
    "    \n",
    "    Output:\n",
    "    A: output of sigmoid(Z)\n",
    "    \"\"\"\n",
    "    A = 1 / (1 + np.exp(-Z))\n",
    "    \n",
    "    assert(A.shape == Z.shape)\n",
    "\n",
    "    return A\n",
    "\n",
    "## ReLU functions:\n",
    "def relu(Z):\n",
    "    \"\"\"\n",
    "    Implementing the ReLU activation function\n",
    "    \n",
    "    Input:\n",
    "    Z: numpy array\n",
    "    \n",
    "    Output:\n",
    "    A: output of relu(Z)\n",
    "    \"\"\"\n",
    "    A = np.maximum(0,Z)\n",
    "    \n",
    "    assert(A.shape == Z.shape)\n",
    "\n",
    "    return A\n",
    "\n",
    "def sigmoid_derivative(Z):\n",
    "    \"\"\"\n",
    "    Derivative of Sigmoid activation functions (g'(z))\n",
    "    \n",
    "    Input:\n",
    "    Z: numpy array\n",
    "    \n",
    "    Output:\n",
    "    g_prime_Z: output of the derivtive of Sigmoid function at Z\n",
    "    \"\"\"\n",
    "    dZ = sigmoid(Z) * (1 - sigmoid(Z))\n",
    "    \n",
    "    assert (dZ.shape == Z.shape)\n",
    "\n",
    "    return dZ\n",
    "    \n",
    "def relu_derivative(Z):\n",
    "    \"\"\"\n",
    "    Derivative of ReLU activation functions (g'(z))\n",
    "    \n",
    "    Input:\n",
    "    Z: numpy array\n",
    "    \n",
    "    Output:\n",
    "    g_prime_Z: output of the derivtive of ReLU function at Z\n",
    "    \"\"\"\n",
    "    # Z = np.array(Z)\n",
    "    dZ = np.ones(shape = Z.shape)\n",
    "    dZ[Z <= 0] = 0  # dZ = 0 where z <= 0 and 1 where z > 0 \n",
    "    \n",
    "    assert (dZ.shape == Z.shape)\n",
    "\n",
    "    return dZ"
   ]
  },
  {
   "cell_type": "markdown",
   "metadata": {},
   "source": [
    "Deep Learning methodology to build the model:\n",
    "\n",
    "1. Initialize parameters and define hyperparameters\n",
    "2. Loop for num_iterations (Forward propagation > Compute cost > Backward propagation > Update parameters) \n",
    "3. Use trained parameters to predict labels\n",
    "\n",
    "In here:\n",
    "\n",
    "```python\n",
    "def initialize_params(layers_dims):\n",
    "    ...\n",
    "    return params\n",
    "\n",
    "def forward_prop(X, params):\n",
    "    ...\n",
    "    return A_L, caches\n",
    "\n",
    "def cost_fun(A_L, Y):\n",
    "    ...\n",
    "    return cost\n",
    "\n",
    "def backward_prop(A_L, Y, caches):\n",
    "    ...\n",
    "    return grads\n",
    "\n",
    "def update_params(params, grads, learning_rate):\n",
    "    ...\n",
    "    return params\n",
    "```"
   ]
  },
  {
   "cell_type": "code",
   "execution_count": 13,
   "metadata": {},
   "outputs": [],
   "source": [
    "def initialize_params(layers_dims):\n",
    "    \"\"\"\n",
    "    Initializing the network parameters b and W\n",
    "    \n",
    "    Input:\n",
    "    layer_dims: python array (list) containing the dimensions of each layer in the network (including input layer)\n",
    "    \n",
    "    Output:\n",
    "    params: Python dictionary containing parameters \"W1\", \"b1\", ..., \"WL\", \"bL\":\n",
    "                    Wl: Weight matrix of shape (layer_dims[l], layer_dims[l-1])\n",
    "                    bl: Bias vector of shape (layer_dims[l], 1)\n",
    "    \"\"\"\n",
    "    ## Number of layers:\n",
    "    L = len(layers_dims) - 1\n",
    "    \n",
    "    ## Random initialization of weight parameters:\n",
    "    params = {}\n",
    "    \n",
    "    for l in range(1, L + 1):\n",
    "        params['W' + str(l)] = np.random.randn(layers_dims[l], layers_dims[l-1]) / np.sqrt(layers_dims[l-1]) #* 0.01\n",
    "        params['b' + str(l)] = np.zeros((layers_dims[l], 1))\n",
    "        \n",
    "        assert(params['W' + str(l)].shape == (layers_dims[l], layers_dims[l-1]))\n",
    "        assert(params['b' + str(l)].shape == (layers_dims[l], 1))\n",
    "\n",
    "    return params"
   ]
  },
  {
   "cell_type": "code",
   "execution_count": 14,
   "metadata": {},
   "outputs": [],
   "source": [
    "def linear_activation_forward(A_prev, W, b, activation):\n",
    "    \"\"\"\n",
    "    Implementing the forward propagation for each LINEAR > ACTIVATION layer\n",
    "\n",
    "    Inout:\n",
    "    A_prev: Activations from previous layer (or input data) in shape (size of previous layer, number of examples)\n",
    "    W: Weights matrix for current layer as numpy array of shape (size of current layer, size of previous layer)\n",
    "    b: Bias vector for current layer as numpy array of shape (size of the current layer, 1)\n",
    "    activation: The type of activation function to use in current layer (\"sigmoid\" or \"relu\")\n",
    "\n",
    "    Output:\n",
    "    A: Output of the activation function \n",
    "    cache: Python dictionary containing (A, W, b, Z)\n",
    "    \"\"\"\n",
    "    \n",
    "    Z = np.dot(W, A_prev) + b\n",
    "    assert(Z.shape == (W.shape[0], A_prev.shape[1]))  \n",
    "        \n",
    "    if activation == 'sigmoid':\n",
    "        A = sigmoid(Z)\n",
    "        \n",
    "    elif activation == 'relu':\n",
    "        A = relu(Z)        \n",
    "    \n",
    "    assert (A.shape == (W.shape[0], A_prev.shape[1]))\n",
    "\n",
    "    cache = (A_prev, W, b, Z)\n",
    "    \n",
    "    return A, cache\n",
    "\n",
    "\n",
    "\n",
    "def forward_prop(X, params):\n",
    "    \"\"\"\n",
    "    Implementing forward propagation assuming (L-1) layers with ReLU and output layer with Sigmoid activation\n",
    "    \n",
    "    Inout:\n",
    "    X: features data in form of numpy array of shape (n, m) where n is input size and m is number of examples\n",
    "    params: Initialized parmeters from output of initialize_params()\n",
    "    \n",
    "    Output:\n",
    "    A_L: Predicted output (last post-activation value)\n",
    "    cache: list of Z values (L of them, indexed from 0 to L-1)\n",
    "    \"\"\"    \n",
    "    cache = []\n",
    "    A = X\n",
    "    \n",
    "    ## Number of layers:\n",
    "    L = int(len(params) / 2)\n",
    "    \n",
    "    ## Implementing forward propagation for (L-1) layers with ReLU:\n",
    "    for l in range(1, L):\n",
    "        A_prev = A\n",
    "        A, cache_temp = linear_activation_forward(A_prev, \n",
    "                                                  params['W' + str(l)], \n",
    "                                                  params['b' + str(l)], \n",
    "                                                  activation = 'relu')\n",
    "        cache.append(cache_temp)\n",
    "        \n",
    "     \n",
    "    ## Implementing forward propagation for output layer with Sigmoid:\n",
    "    A_L, cache_temp = linear_activation_forward(A, params['W' + str(L)], \n",
    "                                                params['b' + str(L)], \n",
    "                                                activation = 'sigmoid')\n",
    "    cache.append(cache_temp)\n",
    "    \n",
    "    assert(A_L.shape == (1,X.shape[1]))\n",
    "\n",
    "    return A_L, cache"
   ]
  },
  {
   "cell_type": "code",
   "execution_count": 15,
   "metadata": {},
   "outputs": [],
   "source": [
    "def cost_fun(A_L, Y):\n",
    "    \"\"\"\n",
    "    Calculating the cost function assuming Sigmoid activation on output layer (L)\n",
    "\n",
    "    Inout:\n",
    "    A_L: Probability vector corresponding to label predictions of shape (1, m) where m is number of examples\n",
    "    Y: True \"label\" vector of shape (1, m)\n",
    "\n",
    "    Output:\n",
    "    cost: The cross-entropy cost\n",
    "    \"\"\"\n",
    "    m = Y.shape[1]\n",
    "    \n",
    "    cost = (-1/m) * (np.dot(Y, np.log(A_L).T) + np.dot((1-Y), np.log(1-A_L).T))\n",
    "    \n",
    "    # Remove single-dimensional entries from the shape of an array (e.g. turn [[17]] into 17):\n",
    "    cost = np.squeeze(cost) \n",
    "    assert(cost.shape == ())\n",
    "\n",
    "    return cost"
   ]
  },
  {
   "cell_type": "code",
   "execution_count": 16,
   "metadata": {},
   "outputs": [],
   "source": [
    "def linear_activation_backward(dA, cache, activation):\n",
    "    \"\"\"\n",
    "    Implementing the backward propagation for each LINEAR > ACTIVATION layer\n",
    "\n",
    "    Inout:\n",
    "    dA: Post-activation gradient for current layer l\n",
    "    cache: Python dictionary containing (A, W, b, Z)\n",
    "    activation: The type of activation function to use in current layer (\"sigmoid\" or \"relu\")\n",
    "    \n",
    "    Output:\n",
    "    dA_prev: Gradient of the cost with respect to the activation of the previous layer (l-1), same shape as A_prev\n",
    "    dW: Gradient of the cost with respect to W for current layer (l), same shape as W\n",
    "    db: Gradient of the cost with respect to b for current layer (l), same shape as b\n",
    "    \"\"\"\n",
    "    \n",
    "    A_prev, W, b, Z = cache\n",
    "    m = A_prev.shape[1]\n",
    "    \n",
    "    if activation == \"sigmoid\":\n",
    "        dZ = dA * sigmoid_derivative(Z)\n",
    "\n",
    "            \n",
    "    elif activation == \"relu\":\n",
    "        dZ = dA * relu_derivative(Z)\n",
    "        \n",
    "    dA_prev = np.dot(W.T, dZ)\n",
    "    dW = (1/m) * np.dot(dZ, A_prev.T)\n",
    "    db = (1/m) * np.sum(dZ, axis = 1, keepdims = True)    \n",
    "    \n",
    "    assert (dA_prev.shape == A_prev.shape)\n",
    "    assert (dW.shape == W.shape)\n",
    "    assert (db.shape == b.shape)    \n",
    "    \n",
    "    return dA_prev, dW, db\n",
    "\n",
    "\n",
    "    \n",
    "def backward_prop(A_L, Y, cache):\n",
    "    \n",
    "    \"\"\"\n",
    "    Implementing backward propagation assuming (L-1) layers with ReLU and output layer with Sigmoid activation\n",
    "    \n",
    "    Input:\n",
    "    A_L: Probability vector, output of the forward propagation forward_prop()\n",
    "    Y: True \"label\" vector of shape (1, m)\n",
    "    cache: Python dictionary containing (A_prev, W, b, Z)\n",
    "\n",
    "    Output:\n",
    "    grads: A dictionary with the gradients dA, dW and db\n",
    "    \"\"\"    \n",
    "    \n",
    "    grads = {}\n",
    "    L = len(cache)\n",
    "    m = A_L.shape[1]\n",
    "\n",
    "    ## Initializing for layer L:\n",
    "    dA_L = - (np.divide(Y, A_L) - np.divide(1 - Y, 1 - A_L))\n",
    "\n",
    "    ## Implementing backward propagation for output (L-th) layer with Sigmoid:\n",
    "    current_cache = cache[L-1]\n",
    "    dA_prev, dW, db = linear_activation_backward(dA_L, current_cache, activation = 'sigmoid')\n",
    "    grads['dA' + str(L-1)] = dA_prev\n",
    "    grads['dW' + str(L)] = dW\n",
    "    grads['db' + str(L)] = db\n",
    "    \n",
    "    ## Implementing backward propagation for (L-1) layers with ReLU:\n",
    "    for l in reversed(range(1, L)):\n",
    "        current_cache = cache[l-1]\n",
    "        dA_prev, dW, db = linear_activation_backward(grads[\"dA\" + str(l)], current_cache, activation = 'relu')\n",
    "        grads['dA' + str(l-1)] = dA_prev\n",
    "        grads['dW' + str(l)] = dW\n",
    "        grads['db' + str(l)] = db\n",
    "    \n",
    "    return grads"
   ]
  },
  {
   "cell_type": "code",
   "execution_count": 17,
   "metadata": {},
   "outputs": [],
   "source": [
    "def update_params(params, grads, learning_rate):\n",
    "    \"\"\"\n",
    "    Update parameters using gradient descent\n",
    "    \n",
    "    Input:\n",
    "    params: Python dictionary containing parameters \"W1\", \"b1\", ..., \"WL\", \"bL\"\n",
    "    grads: A dictionary with the gradients dA, dW and db, output of backward_prop()\n",
    "    \n",
    "    Output:\n",
    "    params: Python dictionary containing updated parameters \"W1\", \"b1\", ..., \"WL\", \"bL\"\n",
    "    \"\"\"\n",
    "    L = int(len(params) / 2)\n",
    "    \n",
    "    for l in range(1, L+1):\n",
    "        params['W' + str(l)] = params['W' + str(l)] - learning_rate * grads['dW' + str(l)]\n",
    "        params['b' + str(l)] = params['b' + str(l)] - learning_rate * grads['db' + str(l)]\n",
    "        \n",
    "    return params"
   ]
  },
  {
   "cell_type": "code",
   "execution_count": 18,
   "metadata": {},
   "outputs": [],
   "source": [
    "def predict(X, params):\n",
    "    \"\"\"\n",
    "    Predicting the results of a L-layer neural network\n",
    "    \n",
    "    Input:\n",
    "    X: Input examples to label\n",
    "    params: Parameters of the trained model\n",
    "    \n",
    "    Output:\n",
    "    p: Predictions for the given dataset X\n",
    "    \"\"\"\n",
    "    m = X.shape[1]\n",
    "    L = int(len(params) / 2)\n",
    "    p = np.zeros((1,m))\n",
    "\n",
    "    A_L, cache = forward_prop(X, params)    \n",
    "    \n",
    "    # Converting A_L to 0 and 1 predictions:\n",
    "    for i in range(0, A_L.shape[1]):\n",
    "        if A_L[0,i] > 0.5:\n",
    "            p[0,i] = 1\n",
    "        else:\n",
    "            p[0,i] = 0\n",
    "\n",
    "    return p            "
   ]
  },
  {
   "cell_type": "code",
   "execution_count": 19,
   "metadata": {},
   "outputs": [],
   "source": [
    "def L_layer_NN(X, y, layers_dims, learning_rate = 0.0075, num_iterations = 3000):\n",
    "    \"\"\"\n",
    "    Implementing the L-layer neural network with (L-1) ReLU and 1 Sigmoid activations\n",
    "    \n",
    "    Input:\n",
    "    X: The input data as a numpy array of shape (num_px * num_px * 3, m) where m is number of examples\n",
    "    y: The true \"label\" vector of shape (1, m)\n",
    "    layers_dims: The list containing the network architecture (input size and each layer size)\n",
    "    learning_rate: The learning rate of the gradient descent\n",
    "    num_iterations: Number of iterations for the optimization loop\n",
    "    \n",
    "    Output:\n",
    "    params: The parameters learnt by the model to be used for predictions\n",
    "    \"\"\"\n",
    "\n",
    "    costs = []\n",
    "    index = []\n",
    "    \n",
    "    # Parameters initialization:\n",
    "    params = initialize_params(layers_dims)\n",
    "    \n",
    "    for i in range(0, num_iterations):\n",
    "\n",
    "        # Forward propagation:\n",
    "        A_L, cache = forward_prop(X, params)\n",
    "\n",
    "        # Computing cost:\n",
    "        cost = cost_fun(A_L, y)\n",
    "    \n",
    "        # Backward propagation:\n",
    "        grads = backward_prop(A_L, y, cache)\n",
    " \n",
    "        # Updating parameters:\n",
    "        params = update_params(params, grads, learning_rate)\n",
    "        \n",
    "        #Printing the cost every 100 iterations:\n",
    "        if i % 100 == 0:\n",
    "            print ('Iteration Number:', i, '\\tCost:', cost)\n",
    "        if i % 100 == 0:\n",
    "            index.append(i)\n",
    "            costs.append(cost)\n",
    "\n",
    "    # plot the cost\n",
    "    plt.scatter(x = index, y = np.squeeze(costs).tolist())\n",
    "    plt.ylabel('Cost')\n",
    "    plt.xlabel('Iterations')\n",
    "    plt.show()\n",
    "    \n",
    "    return params"
   ]
  },
  {
   "cell_type": "code",
   "execution_count": 20,
   "metadata": {
    "scrolled": false
   },
   "outputs": [
    {
     "name": "stdout",
     "output_type": "stream",
     "text": [
      "Iteration Number: 0 \tCost: 0.6822195652640717\n",
      "Iteration Number: 100 \tCost: 0.5805842964515768\n",
      "Iteration Number: 200 \tCost: 0.5183103150912929\n",
      "Iteration Number: 300 \tCost: 0.4705407304562535\n",
      "Iteration Number: 400 \tCost: 0.4335748876165664\n",
      "Iteration Number: 500 \tCost: 0.38336526927301534\n",
      "Iteration Number: 600 \tCost: 0.32134348345569524\n",
      "Iteration Number: 700 \tCost: 0.23559322415799683\n",
      "Iteration Number: 800 \tCost: 0.1606441926532505\n",
      "Iteration Number: 900 \tCost: 0.12681805901038268\n",
      "Iteration Number: 1000 \tCost: 0.06565100569664171\n",
      "Iteration Number: 1100 \tCost: 0.03703369299186711\n",
      "Iteration Number: 1200 \tCost: 0.023887069007864112\n",
      "Iteration Number: 1300 \tCost: 0.017164751826209333\n",
      "Iteration Number: 1400 \tCost: 0.012080249878078955\n",
      "Iteration Number: 1500 \tCost: 0.009583430287411073\n",
      "Iteration Number: 1600 \tCost: 0.007914358624723483\n",
      "Iteration Number: 1700 \tCost: 0.006697217726814877\n",
      "Iteration Number: 1800 \tCost: 0.0057784822594028435\n",
      "Iteration Number: 1900 \tCost: 0.005058985259420181\n",
      "Iteration Number: 2000 \tCost: 0.0044826390675128105\n",
      "Iteration Number: 2100 \tCost: 0.004010597391555836\n",
      "Iteration Number: 2200 \tCost: 0.0036222872392829768\n",
      "Iteration Number: 2300 \tCost: 0.003294699730920078\n",
      "Iteration Number: 2400 \tCost: 0.0030165266324646755\n"
     ]
    },
    {
     "data": {
      "image/png": "[encoded data removed]",
      "text/plain": [
       "<Figure size 432x288 with 1 Axes>"
      ]
     },
     "metadata": {
      "needs_background": "light"
     },
     "output_type": "display_data"
    }
   ],
   "source": [
    "## Define network architecture:\n",
    "layers_dims = [train_set_x.shape[0], 20, 70, 5, train_set_y.shape[0]]   ## 4-layers\n",
    "\n",
    "parameters = L_layer_NN(train_set_x, train_set_y, layers_dims, num_iterations = 2500)"
   ]
  },
  {
   "cell_type": "code",
   "execution_count": 21,
   "metadata": {},
   "outputs": [
    {
     "name": "stdout",
     "output_type": "stream",
     "text": [
      "The accuracy is: 0.9999999999999998\n"
     ]
    }
   ],
   "source": [
    "pred_train = predict(train_set_x, parameters)\n",
    "\n",
    "print(\"The accuracy is: \" + str(np.sum((pred_train == train_set_y) / train_set_y.shape[1])))"
   ]
  },
  {
   "cell_type": "code",
   "execution_count": 22,
   "metadata": {},
   "outputs": [
    {
     "name": "stdout",
     "output_type": "stream",
     "text": [
      "The accuracy is: 0.78\n"
     ]
    }
   ],
   "source": [
    "pred_test = predict(test_set_x, parameters)\n",
    "print(\"The accuracy is: \" + str(np.sum((pred_test == test_set_y) / test_set_y.shape[1])))"
   ]
  },
  {
   "cell_type": "code",
   "execution_count": null,
   "metadata": {},
   "outputs": [],
   "source": []
  }
 ],
 "metadata": {
  "kernelspec": {
   "display_name": "Python 3",
   "language": "python",
   "name": "python3"
  },
  "language_info": {
   "codemirror_mode": {
    "name": "ipython",
    "version": 3
   },
   "file_extension": ".py",
   "mimetype": "text/x-python",
   "name": "python",
   "nbconvert_exporter": "python",
   "pygments_lexer": "ipython3",
   "version": "3.7.2"
  }
 },
 "nbformat": 4,
 "nbformat_minor": 2
}
